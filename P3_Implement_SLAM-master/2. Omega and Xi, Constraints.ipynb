{
 "cells": [
  {
   "cell_type": "markdown",
   "metadata": {},
   "source": [
    "## Omega and Xi\n",
    "\n",
    "To implement Graph SLAM, a matrix and a vector (omega and xi, respectively) are introduced. The matrix is square and labelled with all the robot poses (xi) and all the landmarks (Li). Every time you make an observation, for example, as you move between two poses by some distance `dx` and can relate those two positions, you can represent this as a numerical relationship in these matrices.\n",
    "\n",
    "It's easiest to see how these work in an example. Below you can see a matrix representation of omega and a vector representation of xi.\n",
    "\n",
    "<img src='images/omega_xi.png' width=20% height=20% />\n",
    "\n",
    "Next, let's look at a simple example that relates 3 poses to one another. \n",
    "* When you start out in the world most of these values are zeros or contain only values from the initial robot position\n",
    "* In this example, you have been given constraints, which relate these poses to one another\n",
    "* Constraints translate into matrix values\n",
    "\n",
    "<img src='images/omega_xi_constraints.png' width=70% height=70% />\n",
    "\n",
    "If you have ever solved linear systems of equations before, this may look familiar, and if not, let's keep going!\n",
    "\n",
    "### Solving for x\n",
    "\n",
    "To \"solve\" for all these x values, we can use linear algebra; all the values of x are in the vector `mu` which can be calculated as a product of the inverse of omega times xi.\n",
    "\n",
    "<img src='images/solution.png' width=30% height=30% />\n",
    "\n",
    "---\n",
    "**You can confirm this result for yourself by executing the math in the cell below.**\n",
    "\n",
    "## 오메가와 Xi\n",
    "\n",
    "그래프 SLAM을 구현하기 위해 행렬과 벡터(각각 오메가와 xi)를 도입합니다. 이 행렬은 정사각 행렬이며 모든 로봇 포즈(xi)와 모든 랜드마크(Li)로 레이블이 지정됩니다. 예를 들어, 두 포즈 사이를 일정 거리 `dx`만큼 이동하면서 관찰을 하고 두 위치를 연관시킬 때마다, 이를 이러한 행렬의 수치적 관계로 표현할 수 있습니다.\n",
    "\n",
    "이러한 동작 원리는 예를 들어 설명하는 것이 가장 쉽습니다. 아래에서 오메가를 행렬로 표현하고 xi를 벡터로 표현한 것을 볼 수 있습니다.\n",
    "\n",
    "<img src='images/omega_xi.png' width=20% height=20% />\n",
    "\n",
    "다음으로, 세 가지 포즈를 서로 연관시키는 간단한 예를 살펴보겠습니다.\n",
    "* 처음 시작할 때 이러한 값의 대부분은 0이거나 초기 로봇 위치의 값만 포함합니다.\n",
    "* 이 예시에서는 이러한 포즈를 서로 연결하는 제약 조건이 주어졌습니다.\n",
    "* 제약 조건은 행렬 값으로 변환됩니다.\n",
    "\n",
    "<img src='images/omega_xi_constraints.png' width=70% height=70% />\n",
    "\n",
    "선형 연립방정식을 풀어본 적이 있다면 익숙할 수 있습니다. 그렇지 않다면 계속 진행해 보겠습니다!\n",
    "\n",
    "### x 풀기\n",
    "\n",
    "이러한 모든 x 값을 \"풀기\" 위해 선형대수를 사용할 수 있습니다. 모든 x 값은 오메가에 xi를 곱한 역수의 곱으로 계산할 수 있는 벡터 `mu`에 있습니다.\n",
    "\n",
    "<img src='images/solution.png' width=30% height=30% />\n",
    "\n",
    "---\n",
    "**아래 셀에서 계산을 실행하여 이 결과를 직접 확인할 수 있습니다.**\n"
   ]
  },
  {
   "cell_type": "code",
   "execution_count": 1,
   "metadata": {
    "collapsed": true
   },
   "outputs": [
    {
     "name": "stdout",
     "output_type": "stream",
     "text": [
      "[[-3.]\n",
      " [ 2.]\n",
      " [ 5.]]\n"
     ]
    }
   ],
   "source": [
    "import numpy as np\n",
    "\n",
    "# define omega and xi as in the example\n",
    "omega = np.array([[1,0,0],\n",
    "                  [-1,1,0],\n",
    "                  [0,-1,1]])\n",
    "\n",
    "xi = np.array([[-3],\n",
    "               [5],\n",
    "               [3]])\n",
    "\n",
    "# calculate the inverse of omega\n",
    "omega_inv = np.linalg.inv(np.matrix(omega))\n",
    "\n",
    "# calculate the solution, mu\n",
    "mu = omega_inv*xi\n",
    "\n",
    "# print out the values of mu (x0, x1, x2)\n",
    "print(mu)"
   ]
  },
  {
   "cell_type": "markdown",
   "metadata": {},
   "source": [
    "## Motion Constraints and Landmarks\n",
    "\n",
    "In the last example, the constraint equations, relating one pose to another were given to you. In this next example, let's look at how motion (and similarly, sensor measurements) can be used to create constraints and fill up the constraint matrices, omega and xi. Let's start with empty/zero matrices.\n",
    "\n",
    "<img src='images/initial_constraints.png' width=35% height=35% />\n",
    "\n",
    "This example also includes relationships between poses and landmarks. Say we move from x0 to x1 with a displacement `dx` of 5. Then we have created a motion constraint that relates x0 to x1, and we can start to fill up these matrices.\n",
    "\n",
    "<img src='images/motion_constraint.png' width=50% height=50% />\n",
    "\n",
    "In fact, the one constraint equation can be written in two ways. So, the motion constraint that relates x0 and x1 by the motion of 5 has affected the matrix, adding values for *all* elements that correspond to x0 and x1.\n",
    "\n",
    "### 2D case\n",
    "\n",
    "In these examples, we've been showing you change in only one dimension, the x-dimension. In the project, it will be up to you to represent x and y positional values in omega and xi. One solution could be to create an omega and xi that are 2x larger, so that they can hold both x and y values for poses. I might suggest drawing out a rough solution to graph slam as you read the instructions in the next notebook; that always helps me organize my thoughts. Good luck!\n",
    "\n",
    "## 동작 제약 조건 및 랜드마크\n",
    "\n",
    "지난 예제에서는 한 포즈를 다른 포즈와 연결하는 제약 조건 방정식을 제시했습니다. 다음 예제에서는 동작(그리고 마찬가지로 센서 측정값)을 사용하여 제약 조건을 생성하고 제약 조건 행렬인 오메가와 xi를 채우는 방법을 살펴보겠습니다. 빈/0 행렬부터 시작해 보겠습니다.\n",
    "\n",
    "<img src='images/initial_constraints.png' width=35% height=35% />\n",
    "\n",
    "이 예제에는 포즈와 랜드마크 간의 관계도 포함됩니다. 변위 `dx`가 5인 x0에서 x1로 이동한다고 가정해 보겠습니다. 그러면 x0과 x1을 연결하는 동작 제약 조건이 생성되었으므로, 이 행렬들을 채우기 시작할 수 있습니다.\n",
    "\n",
    "<img src='images/motion_constraint.png' width=50% height=50% />\n",
    "\n",
    "실제로, 하나의 제약 조건 방정식은 두 가지 방법으로 작성할 수 있습니다. 따라서 x0과 x1을 5의 움직임으로 연결하는 움직임 제약 조건이 행렬에 영향을 미쳐 x0과 x1에 해당하는 *모든* 요소에 값을 추가했습니다.\n",
    "\n",
    "### 2D 사례\n",
    "\n",
    "이 예제에서는 x차원, 즉 한 차원의 변화만 보여드렸습니다. 이 프로젝트에서는 x와 y 위치 값을 오메가와 xi로 표현하는 것이 여러분의 몫입니다. 한 가지 해결책은 오메가와 xi를 두 배 더 크게 만들어 포즈에 대한 x와 y 값을 모두 저장할 수 있도록 하는 것입니다. 다음 노트의 지침을 읽으면서 그래프 슬램에 대한 대략적인 해법을 그려보는 것을 제안해 드릴 수도 있습니다. 그러면 생각을 정리하는 데 항상 도움이 됩니다. 행운을 빕니다!"
   ]
  }
 ],
 "metadata": {
  "kernelspec": {
   "display_name": "Python 3",
   "language": "python",
   "name": "python3"
  },
  "language_info": {
   "codemirror_mode": {
    "name": "ipython",
    "version": 3
   },
   "file_extension": ".py",
   "mimetype": "text/x-python",
   "name": "python",
   "nbconvert_exporter": "python",
   "pygments_lexer": "ipython3",
   "version": "3.12.1"
  }
 },
 "nbformat": 4,
 "nbformat_minor": 2
}
